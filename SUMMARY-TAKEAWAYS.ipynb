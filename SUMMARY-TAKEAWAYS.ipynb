{
 "cells": [
  {
   "cell_type": "markdown",
   "metadata": {},
   "source": [
    "# This week for me was two lessons. One in sunk costs; the other in occam's razor. \n",
    "\n",
    "## One: Sunk Costs\n",
    "\n",
    "My first submission--- a low-effort pipeline, relatively minimal-- scored **73%** on the public evaluation board. \n",
    "\n",
    "After that, I had some ideas that would boost my score--- I thought I'd hit 80 no sweat and make it back for supper. \n",
    "\n",
    "As I kept making my pipeline _cooler_, my score got worse and worse-- the more I _invested_ into it, the further my score decreased. 67%. 61% _53%_...\n",
    "\n",
    "Lesson learned: The cheapest pipeline was the best. **The fact that I was investing further into it didn't mean I was making it better. **\n",
    "\n",
    "## The Other: Occam's Razor\n",
    "\n",
    "the clear _worst_ thing I could do was feature-engineer--- my binning code, in my [datacleaning function](https://www.kaggle.com/quinnd/cleanski), made my score worse. It appeared that the longer my pipeline got, the lower my score sunk. \n",
    "\n",
    "I thought that keeping track of sample size and robust k-fold CV would be enough to combat overfitting-- I thought feature-elimination after making polynomial features would be enough to combat overfitting-- _I seemed pretty wrong about that_. \n",
    "\n",
    "In [Harry Potter and the Methods of Rationality](http://www.hpmor.com/chapter/24), Draco recalls being taught the principle of complexity penalties, though he was not offered the opportunity to learn them the hard way: \n",
    "\n",
    "> That was when Father had told Draco about the Rule of Three, which was that any plot which required more than three different things to happen would never work in real life.\n",
    "\n",
    "> Father had further explained that since only a fool would attempt a plot that was _as complicated as possible_, the real limit was two.\n",
    "\n"
   ]
  }
 ],
 "metadata": {
  "kernelspec": {
   "display_name": "Python 3",
   "language": "python",
   "name": "python3"
  },
  "language_info": {
   "codemirror_mode": {
    "name": "ipython",
    "version": 3
   },
   "file_extension": ".py",
   "mimetype": "text/x-python",
   "name": "python",
   "nbconvert_exporter": "python",
   "pygments_lexer": "ipython3",
   "version": "3.6.6"
  }
 },
 "nbformat": 4,
 "nbformat_minor": 2
}
